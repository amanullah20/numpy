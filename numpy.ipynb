{
 "cells": [
  {
   "cell_type": "code",
   "execution_count": 1,
   "id": "cb704399",
   "metadata": {},
   "outputs": [
    {
     "name": "stdout",
     "output_type": "stream",
     "text": [
      "First Element: 10\n",
      "Last Element: 50\n",
      "Sliced Array: [20 30 40]\n"
     ]
    }
   ],
   "source": [
    "# Example 01: NumPy - Basic Indexing and Slicing\n",
    "import numpy as np\n",
    "\n",
    "# Creating an array\n",
    "array = np.array([10, 20, 30, 40, 50])\n",
    "\n",
    "# Accessing elements by index\n",
    "first_element = array[0]\n",
    "last_element = array[-1]\n",
    "\n",
    "# Slicing the array\n",
    "slice_array = array[1:4]\n",
    "\n",
    "print('First Element:', first_element)\n",
    "print('Last Element:', last_element)\n",
    "print('Sliced Array:', slice_array)\n"
   ]
  },
  {
   "cell_type": "code",
   "execution_count": 2,
   "id": "76760637",
   "metadata": {},
   "outputs": [
    {
     "name": "stdout",
     "output_type": "stream",
     "text": [
      "Array of Zeros:\n",
      " [[0. 0. 0.]\n",
      " [0. 0. 0.]\n",
      " [0. 0. 0.]]\n",
      "Array of Ones:\n",
      " [[1. 1.]\n",
      " [1. 1.]]\n",
      "Array with All Elements as 7:\n",
      " [[7 7]\n",
      " [7 7]]\n",
      "Array with Range of Numbers: [0 1 2 3 4 5 6 7 8 9]\n"
     ]
    }
   ],
   "source": [
    "\n",
    "# Example 02: NumPy - Array Creation Basics\n",
    "import numpy as np\n",
    "\n",
    "# Creating arrays with different functions\n",
    "array_zeros = np.zeros((3, 3))\n",
    "array_ones = np.ones((2, 2))\n",
    "array_full = np.full((2, 2), 7)\n",
    "array_range = np.arange(10)\n",
    "\n",
    "print('Array of Zeros:\\n', array_zeros)\n",
    "print('Array of Ones:\\n', array_ones)\n",
    "print('Array with All Elements as 7:\\n', array_full)\n",
    "print('Array with Range of Numbers:', array_range)\n"
   ]
  },
  {
   "cell_type": "code",
   "execution_count": 3,
   "id": "5093aa7f",
   "metadata": {},
   "outputs": [
    {
     "name": "stdout",
     "output_type": "stream",
     "text": [
      "Added: [5 7 9]\n",
      "Subtracted: [-3 -3 -3]\n",
      "Multiplied: [ 4 10 18]\n",
      "Divided: [0.25 0.4  0.5 ]\n"
     ]
    }
   ],
   "source": [
    "\n",
    "# Example 03: NumPy - Basic Arithmetic Operations\n",
    "import numpy as np\n",
    "\n",
    "# Creating arrays\n",
    "array1 = np.array([1, 2, 3])\n",
    "array2 = np.array([4, 5, 6])\n",
    "\n",
    "# Arithmetic operations\n",
    "added = np.add(array1, array2)\n",
    "subtracted = np.subtract(array1, array2)\n",
    "multiplied = np.multiply(array1, array2)\n",
    "divided = np.divide(array1, array2)\n",
    "\n",
    "print('Added:', added)\n",
    "print('Subtracted:', subtracted)\n",
    "print('Multiplied:', multiplied)\n",
    "print('Divided:', divided)\n"
   ]
  },
  {
   "cell_type": "code",
   "execution_count": 4,
   "id": "56b80efd",
   "metadata": {},
   "outputs": [
    {
     "name": "stdout",
     "output_type": "stream",
     "text": [
      "Element at (1,2): 6\n",
      "First Row: [1 2 3]\n",
      "Second Column: [2 5 8]\n"
     ]
    }
   ],
   "source": [
    "\n",
    "# Example 04: NumPy - 2D Array Indexing\n",
    "import numpy as np\n",
    "\n",
    "# Creating a 2D array\n",
    "array_2d = np.array([[1, 2, 3], [4, 5, 6], [7, 8, 9]])\n",
    "\n",
    "# Accessing individual elements\n",
    "element = array_2d[1, 2]  # Accessing element at row 1, column 2\n",
    "\n",
    "# Slicing rows and columns\n",
    "row_slice = array_2d[0, :]  # First row\n",
    "column_slice = array_2d[:, 1]  # Second column\n",
    "\n",
    "\n",
    "print('Element at (1,2):', element)\n",
    "print('First Row:', row_slice)\n",
    "print('Second Column:', column_slice)\n"
   ]
  },
  {
   "cell_type": "code",
   "execution_count": 5,
   "id": "64827494",
   "metadata": {},
   "outputs": [
    {
     "name": "stdout",
     "output_type": "stream",
     "text": [
      "Elements Greater Than 20: [25 30]\n"
     ]
    }
   ],
   "source": [
    "# Example 05: NumPy - Boolean Indexing\n",
    "import numpy as np\n",
    "\n",
    "# Creating an array\n",
    "array = np.array([10, 15, 20, 25, 30])\n",
    "\n",
    "# Boolean indexing\n",
    "greater_than_20 = array[array > 20]\n",
    "\n",
    "print('Elements Greater Than 20:', greater_than_20)\n"
   ]
  },
  {
   "cell_type": "code",
   "execution_count": 6,
   "id": "8bd07eaf",
   "metadata": {},
   "outputs": [
    {
     "name": "stdout",
     "output_type": "stream",
     "text": [
      "Squared Array: [  1  16  81 256]\n",
      "Square Root of Array: [1. 2. 3. 4.]\n"
     ]
    }
   ],
   "source": [
    "\n",
    "# Example 06: NumPy - Power and Square Root\n",
    "import numpy as np\n",
    "\n",
    "# Creating an array\n",
    "array = np.array([1, 4, 9, 16])\n",
    "\n",
    "# Power and square root\n",
    "squared = np.power(array, 2)\n",
    "sqrt = np.sqrt(array)\n",
    "\n",
    "print('Squared Array:', squared)\n",
    "print('Square Root of Array:', sqrt)\n"
   ]
  },
  {
   "cell_type": "code",
   "execution_count": 7,
   "id": "bf54c5e0",
   "metadata": {},
   "outputs": [
    {
     "name": "stdout",
     "output_type": "stream",
     "text": [
      "Exponential of Array: [ 2.71828183  7.3890561  20.08553692]\n",
      "Logarithm of Array: [0.         0.69314718 1.09861229]\n"
     ]
    }
   ],
   "source": [
    "# Example 07: NumPy - Exponential and Logarithmic Functions\n",
    "import numpy as np\n",
    "\n",
    "# Creating an array\n",
    "array = np.array([1, 2, 3])\n",
    "\n",
    "# Exponential and logarithmic functions\n",
    "exp_array = np.exp(array)\n",
    "log_array = np.log(array)\n",
    "\n",
    "print('Exponential of Array:', exp_array)\n",
    "print('Logarithm of Array:', log_array)\n"
   ]
  },
  {
   "cell_type": "code",
   "execution_count": 8,
   "id": "19b5fa6c",
   "metadata": {},
   "outputs": [
    {
     "name": "stdout",
     "output_type": "stream",
     "text": [
      "Selected Elements: [20 40 50]\n"
     ]
    }
   ],
   "source": [
    "# Example 08: NumPy - Fancy Indexing\n",
    "import numpy as np\n",
    "\n",
    "# Creating an array\n",
    "array = np.array([10, 20, 30, 40, 50])\n",
    "\n",
    "# Selecting specific indices\n",
    "selected_elements = array[[1, 3, 4]]\n",
    "\n",
    "print('Selected Elements:', selected_elements)\n"
   ]
  },
  {
   "cell_type": "code",
   "execution_count": 9,
   "id": "953f8d8e",
   "metadata": {},
   "outputs": [
    {
     "name": "stdout",
     "output_type": "stream",
     "text": [
      "Sliced Array with Step 2: [1 3 5 7 9]\n"
     ]
    }
   ],
   "source": [
    "\n",
    "# Example 09: NumPy - Slicing with Step\n",
    "import numpy as np\n",
    "\n",
    "# Creating an array\n",
    "array = np.array([1, 2, 3, 4, 5, 6, 7, 8, 9, 10])\n",
    "\n",
    "# Slicing with a step\n",
    "step_slice = array[::2]  # Every second element\n",
    "\n",
    "print('Sliced Array with Step 2:', step_slice)\n"
   ]
  },
  {
   "cell_type": "code",
   "execution_count": 10,
   "id": "ed6418a4",
   "metadata": {},
   "outputs": [
    {
     "name": "stdout",
     "output_type": "stream",
     "text": [
      "Sine of Angles: [0.0000000e+00 1.0000000e+00 1.2246468e-16]\n",
      "Cosine of Angles: [ 1.000000e+00  6.123234e-17 -1.000000e+00]\n",
      "Tangent of Angles: [ 0.00000000e+00  1.63312394e+16 -1.22464680e-16]\n"
     ]
    }
   ],
   "source": [
    "# Example 10: NumPy - Trigonometric Functions\n",
    "import numpy as np\n",
    "\n",
    "# Creating an array\n",
    "angles = np.array([0, np.pi/2, np.pi])\n",
    "\n",
    "# Trigonometric functions\n",
    "sin_array = np.sin(angles)\n",
    "cos_array = np.cos(angles)\n",
    "tan_array = np.tan(angles)\n",
    "\n",
    "print('Sine of Angles:', sin_array)\n",
    "print('Cosine of Angles:', cos_array)\n",
    "print('Tangent of Angles:', tan_array)\n"
   ]
  },
  {
   "cell_type": "code",
   "execution_count": 11,
   "id": "1c31ed4a",
   "metadata": {},
   "outputs": [
    {
     "name": "stdout",
     "output_type": "stream",
     "text": [
      "Element at (1,0,1): 6\n",
      "Sliced 3D Array:\n",
      " [[1 2]\n",
      " [5 6]]\n"
     ]
    }
   ],
   "source": [
    "# Example 11: NumPy - 3D Array Indexing\n",
    "import numpy as np\n",
    "\n",
    "# Creating a 3D array\n",
    "array_3d = np.array([[[1, 2], [3, 4]], [[5, 6], [7, 8]]])\n",
    "\n",
    "# Accessing elements in a 3D array\n",
    "element = array_3d[1, 0, 1]  # Accessing the element at [1, 0, 1]\n",
    "\n",
    "# Slicing in 3D\n",
    "slice_3d = array_3d[:, 0, :]\n",
    "\n",
    "print('Element at (1,0,1):', element)\n",
    "print('Sliced 3D Array:\\n', slice_3d)\n"
   ]
  },
  {
   "cell_type": "code",
   "execution_count": 1,
   "id": "c8ba092e",
   "metadata": {},
   "outputs": [
    {
     "name": "stdout",
     "output_type": "stream",
     "text": [
      "Indexed Elements: [30 50 70]\n"
     ]
    }
   ],
   "source": [
    "# Example 12: NumPy - Indexing with Arrays\n",
    "import numpy as np\n",
    "\n",
    "# Creating a 2D array\n",
    "array_2d = np.array([[10, 20, 30], [40, 50, 60], [70, 80, 90]])\n",
    "\n",
    "# Using arrays for indexing\n",
    "rows = np.array([0, 1, 2])\n",
    "cols = np.array([2, 1, 0])\n",
    "indexed_elements = array_2d[rows, cols]\n",
    "\n",
    "print('Indexed Elements:', indexed_elements)\n"
   ]
  },
  {
   "cell_type": "code",
   "execution_count": 2,
   "id": "9cc7f122",
   "metadata": {},
   "outputs": [
    {
     "name": "stdout",
     "output_type": "stream",
     "text": [
      "Original Array: [1 2 3 4 5 6]\n",
      "Reshaped Array:\n",
      " [[1 2 3]\n",
      " [4 5 6]]\n"
     ]
    }
   ],
   "source": [
    "# Example 13: NumPy - Reshaping Arrays\n",
    "import numpy as np\n",
    "\n",
    "# Creating an array\n",
    "array = np.array([1, 2, 3, 4, 5, 6])\n",
    "\n",
    "# Reshaping to different dimensions\n",
    "reshaped_array = array.reshape((2, 3))\n",
    "\n",
    "print('Original Array:', array)\n",
    "print('Reshaped Array:\\n', reshaped_array)\n"
   ]
  },
  {
   "cell_type": "code",
   "execution_count": 3,
   "id": "1463bc58",
   "metadata": {},
   "outputs": [
    {
     "name": "stdout",
     "output_type": "stream",
     "text": [
      "Array after Conditional Indexing: [ 1 -1  3 -1  5 -1]\n"
     ]
    }
   ],
   "source": [
    "# Example 14: NumPy - Conditional Indexing\n",
    "import numpy as np\n",
    "\n",
    "# Creating an array\n",
    "array = np.array([1, 2, 3, 4, 5, 6])\n",
    "\n",
    "# Setting elements that satisfy a condition\n",
    "array[array % 2 == 0] = -1  # Set even numbers to -1\n",
    "\n",
    "print('Array after Conditional Indexing:', array)\n"
   ]
  },
  {
   "cell_type": "code",
   "execution_count": 4,
   "id": "7ec864f0",
   "metadata": {},
   "outputs": [
    {
     "name": "stdout",
     "output_type": "stream",
     "text": [
      "Original Array:\n",
      " [[1 2]\n",
      " [3 4]]\n",
      "Transposed Array:\n",
      " [[1 3]\n",
      " [2 4]]\n"
     ]
    }
   ],
   "source": [
    "# Example 15: NumPy - Transposing Arrays\n",
    "import numpy as np\n",
    "\n",
    "# Creating a 2D array\n",
    "array = np.array([[1, 2], [3, 4]])\n",
    "\n",
    "# Transposing the array\n",
    "transposed_array = np.transpose(array)\n",
    "\n",
    "print('Original Array:\\n', array)\n",
    "print('Transposed Array:\\n', transposed_array)\n"
   ]
  },
  {
   "cell_type": "code",
   "execution_count": 5,
   "id": "68641aaf",
   "metadata": {},
   "outputs": [
    {
     "name": "stdout",
     "output_type": "stream",
     "text": [
      "Original Array: [1 2 3]\n",
      "Array after Broadcasting: [11 12 13]\n"
     ]
    }
   ],
   "source": [
    "\n",
    "# Example 16: NumPy - Broadcasting\n",
    "import numpy as np\n",
    "\n",
    "# Creating an array\n",
    "array = np.array([1, 2, 3])\n",
    "\n",
    "# Broadcasting: Adding a scalar to an array\n",
    "result = array + 10\n",
    "\n",
    "print('Original Array:', array)\n",
    "print('Array after Broadcasting:', result)\n"
   ]
  },
  {
   "cell_type": "code",
   "execution_count": 6,
   "id": "cbb5a927",
   "metadata": {},
   "outputs": [
    {
     "name": "stdout",
     "output_type": "stream",
     "text": [
      "Sub Array (Slicing Rows and Columns):\n",
      " [[ 6  7]\n",
      " [10 11]]\n"
     ]
    }
   ],
   "source": [
    "# Example 17: NumPy - Multi-dimensional Slicing\n",
    "import numpy as np\n",
    "\n",
    "# Creating a 2D array\n",
    "array_2d = np.array([[1, 2, 3, 4], [5, 6, 7, 8], [9, 10, 11, 12]])\n",
    "\n",
    "# Multi-dimensional slicing\n",
    "sub_array = array_2d[1:, 1:3]\n",
    "\n",
    "print('Sub Array (Slicing Rows and Columns):\\n', sub_array)\n"
   ]
  },
  {
   "cell_type": "code",
   "execution_count": 7,
   "id": "366603bc",
   "metadata": {},
   "outputs": [
    {
     "name": "stdout",
     "output_type": "stream",
     "text": [
      "Modified Array: [ 10 100  30 200  50]\n"
     ]
    }
   ],
   "source": [
    "# Example 18: NumPy - Modifying Array Values using Indexing\n",
    "import numpy as np\n",
    "\n",
    "# Creating an array\n",
    "array = np.array([10, 20, 30, 40, 50])\n",
    "\n",
    "# Modifying values at specific indices\n",
    "array[[1, 3]] = [100, 200]\n",
    "\n",
    "print('Modified Array:', array)\n"
   ]
  },
  {
   "cell_type": "code",
   "execution_count": 8,
   "id": "9837a2cd",
   "metadata": {},
   "outputs": [
    {
     "name": "stdout",
     "output_type": "stream",
     "text": [
      "Original Array: [3 1 2 5 4]\n",
      "Sorted Array: [1 2 3 4 5]\n"
     ]
    }
   ],
   "source": [
    "# Example 19: NumPy - Sorting Arrays\n",
    "import numpy as np\n",
    "\n",
    "# Creating an array\n",
    "array = np.array([3, 1, 2, 5, 4])\n",
    "\n",
    "# Sorting the array\n",
    "sorted_array = np.sort(array)\n",
    "\n",
    "print('Original Array:', array)\n",
    "print('Sorted Array:', sorted_array)\n"
   ]
  },
  {
   "cell_type": "code",
   "execution_count": 9,
   "id": "99414125",
   "metadata": {},
   "outputs": [
    {
     "name": "stdout",
     "output_type": "stream",
     "text": [
      "Last Element: 50\n",
      "Second Last Element: 40\n"
     ]
    }
   ],
   "source": [
    "# Example 20: NumPy - Indexing with Negative Indices\n",
    "import numpy as np\n",
    "\n",
    "# Creating an array\n",
    "array = np.array([10, 20, 30, 40, 50])\n",
    "\n",
    "# Accessing elements from the end using negative indices\n",
    "last_element = array[-1]\n",
    "second_last_element = array[-2]\n",
    "\n",
    "print('Last Element:', last_element)\n",
    "print('Second Last Element:', second_last_element)\n"
   ]
  },
  {
   "cell_type": "code",
   "execution_count": 10,
   "id": "c9f7584b",
   "metadata": {},
   "outputs": [
    {
     "name": "stdout",
     "output_type": "stream",
     "text": [
      "Random Array:\n",
      " [[0.63303393 0.58000018 0.46044236]\n",
      " [0.11416505 0.46946587 0.86297994]\n",
      " [0.35085239 0.08040021 0.23255809]]\n",
      "Normal Distribution Array:\n",
      " [[ 1.20515242 -0.00233989 -1.11155756]\n",
      " [-0.40131099  1.30652824  0.64611104]\n",
      " [-0.10906777  0.31987741 -0.96115755]]\n"
     ]
    }
   ],
   "source": [
    "# Example 21: NumPy - Random Array Generation\n",
    "import numpy as np\n",
    "\n",
    "# Generating random arrays\n",
    "random_array = np.random.rand(3, 3)  # Random values in a 3x3 array\n",
    "normal_array = np.random.randn(3, 3)  # Random values with a normal distribution\n",
    "\n",
    "print('Random Array:\\n', random_array)\n",
    "print('Normal Distribution Array:\\n', normal_array)\n"
   ]
  },
  {
   "cell_type": "code",
   "execution_count": 11,
   "id": "30afd2e6",
   "metadata": {},
   "outputs": [
    {
     "name": "stdout",
     "output_type": "stream",
     "text": [
      "Original Array: [1 2 3 4 5 6]\n",
      "Even Numbers: [2 4 6]\n"
     ]
    }
   ],
   "source": [
    "# Example 22: NumPy - Boolean Indexing\n",
    "import numpy as np\n",
    "\n",
    "# Creating an array\n",
    "array = np.array([1, 2, 3, 4, 5, 6])\n",
    "\n",
    "# Boolean indexing\n",
    "even_numbers = array[array % 2 == 0]\n",
    "\n",
    "print('Original Array:', array)\n",
    "print('Even Numbers:', even_numbers)\n"
   ]
  },
  {
   "cell_type": "code",
   "execution_count": 12,
   "id": "7857c875",
   "metadata": {},
   "outputs": [
    {
     "name": "stdout",
     "output_type": "stream",
     "text": [
      "Combined Boolean and Fancy Indexing Result: [15 25]\n"
     ]
    }
   ],
   "source": [
    "\n",
    "# Example 23: NumPy - Combining Boolean and Fancy Indexing\n",
    "import numpy as np\n",
    "\n",
    "# Creating an array\n",
    "array = np.array([10, 15, 20, 25, 30])\n",
    "\n",
    "# Boolean condition combined with specific indices\n",
    "result = array[(array > 10) & (array < 30)][[0, 2]]\n",
    "\n",
    "print('Combined Boolean and Fancy Indexing Result:', result)\n"
   ]
  },
  {
   "cell_type": "code",
   "execution_count": 13,
   "id": "23b99813",
   "metadata": {},
   "outputs": [
    {
     "name": "stdout",
     "output_type": "stream",
     "text": [
      "Selected Slice:\n",
      " [[ 5  6]\n",
      " [ 9 10]]\n"
     ]
    }
   ],
   "source": [
    "\n",
    "# Example 24: NumPy - Indexing Multi-dimensional Arrays with Slices\n",
    "import numpy as np\n",
    "\n",
    "# Creating a 3x4 array\n",
    "array_2d = np.array([[1, 2, 3, 4], [5, 6, 7, 8], [9, 10, 11, 12]])\n",
    "\n",
    "# Selecting specific rows and columns using slices\n",
    "selected_slice = array_2d[1:, :2]\n",
    "\n",
    "print('Selected Slice:\\n', selected_slice)\n"
   ]
  },
  {
   "cell_type": "code",
   "execution_count": 14,
   "id": "188df2ce",
   "metadata": {},
   "outputs": [
    {
     "name": "stdout",
     "output_type": "stream",
     "text": [
      "Mean: 3.0\n",
      "Median: 3.0\n",
      "Standard Deviation: 1.4142135623730951\n",
      "Variance: 2.0\n"
     ]
    }
   ],
   "source": [
    "# Example 25: NumPy - Statistical Functions\n",
    "import numpy as np\n",
    "\n",
    "# Creating an array\n",
    "array = np.array([1, 2, 3, 4, 5])\n",
    "\n",
    "# Calculating statistical values\n",
    "mean = np.mean(array)\n",
    "median = np.median(array)\n",
    "std_dev = np.std(array)\n",
    "variance = np.var(array)\n",
    "\n",
    "print('Mean:', mean)\n",
    "print('Median:', median)\n",
    "print('Standard Deviation:', std_dev)\n",
    "print('Variance:', variance)\n"
   ]
  },
  {
   "cell_type": "code",
   "execution_count": 15,
   "id": "15457d4e",
   "metadata": {},
   "outputs": [
    {
     "name": "stdout",
     "output_type": "stream",
     "text": [
      "Result using Ellipsis (...):\n",
      " [[ 2  4]\n",
      " [ 6  8]\n",
      " [10 12]]\n"
     ]
    }
   ],
   "source": [
    "# Example 26: NumPy - Using Ellipsis (...) in Indexing\n",
    "import numpy as np\n",
    "\n",
    "# Creating a 3D array\n",
    "array_3d = np.array([[[1, 2], [3, 4]], [[5, 6], [7, 8]], [[9, 10], [11, 12]]])\n",
    "\n",
    "# Using ellipsis to select all elements along specific axes\n",
    "result = array_3d[..., 1]  # Selecting the second column in each 2D slice\n",
    "\n",
    "print('Result using Ellipsis (...):\\n', result)\n"
   ]
  },
  {
   "cell_type": "code",
   "execution_count": 16,
   "id": "160cd7fe",
   "metadata": {},
   "outputs": [
    {
     "name": "stdout",
     "output_type": "stream",
     "text": [
      "Unique Elements: [1 2 3 4 5]\n",
      "Counts of Unique Elements: [1 2 1 3 1]\n"
     ]
    }
   ],
   "source": [
    "# Example 27: NumPy - Unique Elements and Counting\n",
    "import numpy as np\n",
    "\n",
    "# Creating an array with duplicate values\n",
    "array = np.array([1, 2, 2, 3, 4, 4, 4, 5])\n",
    "\n",
    "# Finding unique elements and their counts\n",
    "unique_elements, counts = np.unique(array, return_counts=True)\n",
    "\n",
    "print('Unique Elements:', unique_elements)\n",
    "print('Counts of Unique Elements:', counts)\n"
   ]
  },
  {
   "cell_type": "code",
   "execution_count": 17,
   "id": "ec38cbca",
   "metadata": {},
   "outputs": [
    {
     "name": "stdout",
     "output_type": "stream",
     "text": [
      "Concatenated Array: [1 2 3 4 5 6]\n"
     ]
    }
   ],
   "source": [
    "# Example 28: NumPy - Concatenation of Arrays\n",
    "import numpy as np\n",
    "\n",
    "# Creating arrays\n",
    "array1 = np.array([1, 2, 3])\n",
    "array2 = np.array([4, 5, 6])\n",
    "\n",
    "# Concatenating arrays\n",
    "concatenated_array = np.concatenate((array1, array2))\n",
    "\n",
    "print('Concatenated Array:', concatenated_array)\n"
   ]
  },
  {
   "cell_type": "code",
   "execution_count": 18,
   "id": "049e233d",
   "metadata": {},
   "outputs": [
    {
     "name": "stdout",
     "output_type": "stream",
     "text": [
      "Positive Values: [1 3 5]\n"
     ]
    }
   ],
   "source": [
    "# Example 29: NumPy - Masked Indexing\n",
    "import numpy as np\n",
    "\n",
    "# Creating an array\n",
    "array = np.array([1, -2, 3, -4, 5])\n",
    "\n",
    "# Creating a mask for positive values\n",
    "mask = array > 0\n",
    "\n",
    "# Applying mask to get only positive values\n",
    "positive_values = array[mask]\n",
    "\n",
    "print('Positive Values:', positive_values)\n"
   ]
  },
  {
   "cell_type": "code",
   "execution_count": 19,
   "id": "e1868a20",
   "metadata": {},
   "outputs": [
    {
     "name": "stdout",
     "output_type": "stream",
     "text": [
      "Diagonal Elements: [1 5 9]\n"
     ]
    }
   ],
   "source": [
    "\n",
    "# Example 30: NumPy - Extracting Diagonal Elements\n",
    "import numpy as np\n",
    "\n",
    "# Creating a square matrix\n",
    "matrix = np.array([[1, 2, 3], [4, 5, 6], [7, 8, 9]])\n",
    "\n",
    "# Extracting the main diagonal\n",
    "diagonal_elements = np.diag(matrix)\n",
    "\n",
    "print('Diagonal Elements:', diagonal_elements)\n"
   ]
  },
  {
   "cell_type": "code",
   "execution_count": 20,
   "id": "6dc79a4b",
   "metadata": {},
   "outputs": [
    {
     "name": "stdout",
     "output_type": "stream",
     "text": [
      "Split Arrays: [array([1, 2]), array([3, 4]), array([5, 6])]\n"
     ]
    }
   ],
   "source": [
    "# Example 31: NumPy - Splitting Arrays\n",
    "import numpy as np\n",
    "\n",
    "# Creating an array\n",
    "array = np.array([1, 2, 3, 4, 5, 6])\n",
    "\n",
    "# Splitting the array into three parts\n",
    "split_arrays = np.array_split(array, 3)\n",
    "\n",
    "print('Split Arrays:', split_arrays)\n"
   ]
  },
  {
   "cell_type": "code",
   "execution_count": 21,
   "id": "ff4eb43b",
   "metadata": {},
   "outputs": [
    {
     "name": "stdout",
     "output_type": "stream",
     "text": [
      "Indices where elements > 25: (array([2, 3, 4], dtype=int64),)\n",
      "Values where elements > 25: [30 40 50]\n"
     ]
    }
   ],
   "source": [
    "# Example 32: NumPy - Indexing with np.where()\n",
    "import numpy as np\n",
    "\n",
    "# Creating an array\n",
    "array = np.array([10, 20, 30, 40, 50])\n",
    "\n",
    "# Using np.where to find indices where elements are greater than 25\n",
    "indices = np.where(array > 25)\n",
    "\n",
    "print('Indices where elements > 25:', indices)\n",
    "print('Values where elements > 25:', array[indices])\n"
   ]
  },
  {
   "cell_type": "code",
   "execution_count": 22,
   "id": "3fe317e1",
   "metadata": {},
   "outputs": [
    {
     "name": "stdout",
     "output_type": "stream",
     "text": [
      "Linear Space Array: [ 0.   2.5  5.   7.5 10. ]\n"
     ]
    }
   ],
   "source": [
    "# Example 33: NumPy - Linear Space Array\n",
    "import numpy as np\n",
    "\n",
    "# Generating a linear space array with evenly spaced values\n",
    "linear_space = np.linspace(0, 10, 5)\n",
    "\n",
    "print('Linear Space Array:', linear_space)\n"
   ]
  },
  {
   "cell_type": "code",
   "execution_count": 23,
   "id": "dd27742b",
   "metadata": {},
   "outputs": [
    {
     "name": "stdout",
     "output_type": "stream",
     "text": [
      "Advanced Sliced Array with Step:\n",
      " [[ 1  3]\n",
      " [ 9 11]]\n"
     ]
    }
   ],
   "source": [
    "# Example 34: NumPy - Advanced Slicing with Step in 2D Array\n",
    "import numpy as np\n",
    "\n",
    "# Creating a 2D array\n",
    "array_2d = np.array([[1, 2, 3, 4], [5, 6, 7, 8], [9, 10, 11, 12]])\n",
    "\n",
    "# Slicing every second element in rows and columns\n",
    "result = array_2d[::2, ::2]\n",
    "\n",
    "print('Advanced Sliced Array with Step:\\n', result)\n"
   ]
  },
  {
   "cell_type": "code",
   "execution_count": 24,
   "id": "e0130d57",
   "metadata": {},
   "outputs": [
    {
     "name": "stdout",
     "output_type": "stream",
     "text": [
      "Meshgrid X:\n",
      " [[1 2 3]\n",
      " [1 2 3]\n",
      " [1 2 3]]\n",
      "Meshgrid Y:\n",
      " [[4 4 4]\n",
      " [5 5 5]\n",
      " [6 6 6]]\n"
     ]
    }
   ],
   "source": [
    "# Example 35: NumPy - Meshgrid Creation\n",
    "import numpy as np\n",
    "\n",
    "# Creating 1D arrays\n",
    "x = np.array([1, 2, 3])\n",
    "y = np.array([4, 5, 6])\n",
    "\n",
    "# Creating a meshgrid\n",
    "X, Y = np.meshgrid(x, y)\n",
    "\n",
    "print('Meshgrid X:\\n', X)\n",
    "print('Meshgrid Y:\\n', Y)\n"
   ]
  },
  {
   "cell_type": "code",
   "execution_count": 25,
   "id": "017f6099",
   "metadata": {},
   "outputs": [
    {
     "name": "stdout",
     "output_type": "stream",
     "text": [
      "Original Array: [1 2 3 4 5]\n",
      "Clipped Array: [2 2 3 4 4]\n"
     ]
    }
   ],
   "source": [
    "# Example 36: NumPy - Clipping Array Values\n",
    "import numpy as np\n",
    "\n",
    "# Creating an array\n",
    "array = np.array([1, 2, 3, 4, 5])\n",
    "\n",
    "# Clipping values to be between 2 and 4\n",
    "clipped_array = np.clip(array, 2, 4)\n",
    "\n",
    "print('Original Array:', array)\n",
    "print('Clipped Array:', clipped_array)\n"
   ]
  },
  {
   "cell_type": "code",
   "execution_count": 26,
   "id": "1b9adb1e",
   "metadata": {},
   "outputs": [
    {
     "name": "stdout",
     "output_type": "stream",
     "text": [
      "Array after Setting Values: [  1 100   3 200   5]\n"
     ]
    }
   ],
   "source": [
    "# Example 37: NumPy - Setting Values Using Indexing\n",
    "import numpy as np\n",
    "\n",
    "# Creating an array\n",
    "array = np.array([1, 2, 3, 4, 5])\n",
    "\n",
    "# Setting specific values using indexing\n",
    "array[[1, 3]] = [100, 200]\n",
    "\n",
    "print('Array after Setting Values:', array)\n"
   ]
  },
  {
   "cell_type": "code",
   "execution_count": 27,
   "id": "589a9235",
   "metadata": {},
   "outputs": [
    {
     "name": "stdout",
     "output_type": "stream",
     "text": [
      "Cumulative Sum: [ 1  3  6 10]\n",
      "Cumulative Product: [ 1  2  6 24]\n"
     ]
    }
   ],
   "source": [
    "# Example 38: NumPy - Cumulative Sum and Product\n",
    "import numpy as np\n",
    "\n",
    "# Creating an array\n",
    "array = np.array([1, 2, 3, 4])\n",
    "\n",
    "# Calculating cumulative sum and product\n",
    "cumulative_sum = np.cumsum(array)\n",
    "cumulative_product = np.cumprod(array)\n",
    "\n",
    "print('Cumulative Sum:', cumulative_sum)\n",
    "print('Cumulative Product:', cumulative_product)\n"
   ]
  },
  {
   "cell_type": "code",
   "execution_count": 28,
   "id": "30de3ec6",
   "metadata": {},
   "outputs": [
    {
     "name": "stdout",
     "output_type": "stream",
     "text": [
      "Upper Triangle of the Matrix:\n",
      " [[1 2 3]\n",
      " [0 5 6]\n",
      " [0 0 9]]\n"
     ]
    }
   ],
   "source": [
    "# Example 39: NumPy - Extracting Upper Triangle of a Matrix\n",
    "import numpy as np\n",
    "\n",
    "# Creating a square matrix\n",
    "matrix = np.array([[1, 2, 3], [4, 5, 6], [7, 8, 9]])\n",
    "\n",
    "# Extracting the upper triangle (above the main diagonal)\n",
    "upper_triangle = np.triu(matrix)\n",
    "\n",
    "print('Upper Triangle of the Matrix:\\n', upper_triangle)\n"
   ]
  },
  {
   "cell_type": "code",
   "execution_count": 1,
   "id": "f0b98c3f",
   "metadata": {},
   "outputs": [
    {
     "name": "stdout",
     "output_type": "stream",
     "text": [
      "Reversed Array: [5 4 3 2 1]\n"
     ]
    }
   ],
   "source": [
    "# Example 40: NumPy - Reverse Array using Indexing\n",
    "import numpy as np\n",
    "\n",
    "# Creating an array\n",
    "array = np.array([1, 2, 3, 4, 5])\n",
    "\n",
    "# Reversing the array using slicing\n",
    "reversed_array = array[::-1]\n",
    "\n",
    "print('Reversed Array:', reversed_array)\n"
   ]
  },
  {
   "cell_type": "code",
   "execution_count": 29,
   "id": "4d11b7c7",
   "metadata": {},
   "outputs": [
    {
     "name": "stdout",
     "output_type": "stream",
     "text": [
      "Lower Triangle of the Matrix:\n",
      " [[1 0 0]\n",
      " [4 5 0]\n",
      " [7 8 9]]\n"
     ]
    }
   ],
   "source": [
    "\n",
    "# Example 41: NumPy - Extract Lower Triangle of a Matrix\n",
    "import numpy as np\n",
    "\n",
    "# Creating a square matrix\n",
    "matrix = np.array([[1, 2, 3], [4, 5, 6], [7, 8, 9]])\n",
    "\n",
    "# Extracting the lower triangle (below the main diagonal)\n",
    "lower_triangle = np.tril(matrix)\n",
    "\n",
    "print('Lower Triangle of the Matrix:\\n', lower_triangle)\n"
   ]
  },
  {
   "cell_type": "code",
   "execution_count": 30,
   "id": "34476e44",
   "metadata": {},
   "outputs": [
    {
     "name": "stdout",
     "output_type": "stream",
     "text": [
      "Mixed Type Indexing Result: [ 6 10]\n"
     ]
    }
   ],
   "source": [
    "# Example 42: NumPy - Multi-dimensional Array Indexing with Mixed Types\n",
    "import numpy as np\n",
    "\n",
    "# Creating a 3D array\n",
    "array_3d = np.array([[[1, 2], [3, 4]], [[5, 6], [7, 8]], [[9, 10], [11, 12]]])\n",
    "\n",
    "# Mixing slicing with direct indexing\n",
    "mixed_index = array_3d[1:, 0, 1]\n",
    "\n",
    "print('Mixed Type Indexing Result:', mixed_index)\n"
   ]
  },
  {
   "cell_type": "code",
   "execution_count": 31,
   "id": "30b02f39",
   "metadata": {},
   "outputs": [
    {
     "name": "stdout",
     "output_type": "stream",
     "text": [
      "Selected Elements using np.take: [10 30 50]\n"
     ]
    }
   ],
   "source": [
    "# Example 43: NumPy - Indexing with np.take\n",
    "import numpy as np\n",
    "\n",
    "# Creating an array\n",
    "array = np.array([10, 20, 30, 40, 50])\n",
    "\n",
    "# Using np.take to select elements at specific indices\n",
    "indices = [0, 2, 4]\n",
    "result = np.take(array, indices)\n",
    "\n",
    "print('Selected Elements using np.take:', result)\n"
   ]
  },
  {
   "cell_type": "code",
   "execution_count": 32,
   "id": "c38579f5",
   "metadata": {},
   "outputs": [
    {
     "name": "stdout",
     "output_type": "stream",
     "text": [
      "Masked Array with Negative Values Hidden: [1 -- 3 -- 5]\n"
     ]
    }
   ],
   "source": [
    "\n",
    "# Example 44: NumPy - Masked Indexing with np.ma.masked_where\n",
    "import numpy as np\n",
    "\n",
    "# Creating an array\n",
    "array = np.array([1, -2, 3, -4, 5])\n",
    "\n",
    "# Masking elements where values are negative\n",
    "masked_array = np.ma.masked_where(array < 0, array)\n",
    "\n",
    "print('Masked Array with Negative Values Hidden:', masked_array)\n"
   ]
  },
  {
   "cell_type": "code",
   "execution_count": 33,
   "id": "09b11155",
   "metadata": {},
   "outputs": [
    {
     "name": "stdout",
     "output_type": "stream",
     "text": [
      "Flattened Array: [1 2 3 4 5 6]\n"
     ]
    }
   ],
   "source": [
    "# Example 45: NumPy - Flattening a Multi-dimensional Array\n",
    "import numpy as np\n",
    "\n",
    "# Creating a 2D array\n",
    "array_2d = np.array([[1, 2, 3], [4, 5, 6]])\n",
    "\n",
    "# Flattening the array\n",
    "flattened_array = array_2d.flatten()\n",
    "\n",
    "print('Flattened Array:', flattened_array)\n"
   ]
  },
  {
   "cell_type": "code",
   "execution_count": 34,
   "id": "1cc3d8d5",
   "metadata": {},
   "outputs": [
    {
     "name": "stdout",
     "output_type": "stream",
     "text": [
      "Indices for Meshgrid Advanced Indexing:\n",
      " [[1 2 3 1 2 3]\n",
      " [4 4 4 5 5 5]]\n"
     ]
    }
   ],
   "source": [
    "# Example 46: NumPy - Advanced Indexing with Meshgrid\n",
    "import numpy as np\n",
    "\n",
    "# Creating 1D arrays\n",
    "x = np.array([1, 2, 3])\n",
    "y = np.array([4, 5])\n",
    "\n",
    "# Creating meshgrid for advanced indexing\n",
    "X, Y = np.meshgrid(x, y)\n",
    "indices = np.vstack([X.ravel(), Y.ravel()])\n",
    "\n",
    "print('Indices for Meshgrid Advanced Indexing:\\n', indices)\n"
   ]
  },
  {
   "cell_type": "code",
   "execution_count": 35,
   "id": "5afc6161",
   "metadata": {},
   "outputs": [
    {
     "name": "stdout",
     "output_type": "stream",
     "text": [
      "Array with Values Greater Than 20 Replaced with 0: [10 15 20  0  0]\n"
     ]
    }
   ],
   "source": [
    "# Example 47: NumPy - Conditional Replacement with np.where\n",
    "import numpy as np\n",
    "\n",
    "# Creating an array\n",
    "array = np.array([10, 15, 20, 25, 30])\n",
    "\n",
    "# Replacing values based on condition\n",
    "result = np.where(array > 20, 0, array)\n",
    "\n",
    "print('Array with Values Greater Than 20 Replaced with 0:', result)\n"
   ]
  },
  {
   "cell_type": "code",
   "execution_count": 3,
   "id": "65305df2",
   "metadata": {},
   "outputs": [
    {
     "name": "stdout",
     "output_type": "stream",
     "text": [
      "Result using np.choose: [10 11  4 13]\n",
      "[array([0, 2, 4, 6]), array([10, 11, 12, 13]), array([0, 1, 4, 9])]\n"
     ]
    }
   ],
   "source": [
    "# Example 48: NumPy - Using np.choose for Multiple Conditions\n",
    "import numpy as np\n",
    "\n",
    "# Creating arrays for conditions\n",
    "array = np.array([0, 1, 2, 3])\n",
    "choices = [array*2, array+10, array**2]\n",
    "\n",
    "# Using np.choose to apply different conditions\n",
    "result = np.choose( [1,1,0,1], choices)\n",
    "\n",
    "print('Result using np.choose:', result)\n",
    "print(choices)\n"
   ]
  },
  {
   "cell_type": "code",
   "execution_count": 4,
   "id": "50cd76ca",
   "metadata": {},
   "outputs": [
    {
     "name": "stdout",
     "output_type": "stream",
     "text": [
      "Result using np.choose: [10 11  4 13]\n"
     ]
    }
   ],
   "source": [
    "# Example 49: NumPy - Using np.choose for Multiple Conditions\n",
    "import numpy as np\n",
    "\n",
    "# Creating arrays for conditions\n",
    "array = np.array([0, 1, 2, 3])\n",
    "choices = [array*2, array+10, array**2]\n",
    "\n",
    "# Using np.choose to apply different conditions\n",
    "result = np.choose([1,1,0,1], choices)\n",
    "\n",
    "print('Result using np.choose:', result)\n"
   ]
  },
  {
   "cell_type": "code",
   "execution_count": 6,
   "id": "909c1b21",
   "metadata": {},
   "outputs": [
    {
     "name": "stdout",
     "output_type": "stream",
     "text": [
      "Combined Indexing Result: [40 50]\n"
     ]
    }
   ],
   "source": [
    "\n",
    "# Example 50: NumPy - Combining Multiple Indexing Techniques\n",
    "import numpy as np\n",
    "\n",
    "# Creating a 2D array\n",
    "array_2d = np.array([[10, 20, 30], [40, 50, 60], [70, 80, 90]])\n",
    "\n",
    "# Combining boolean, fancy, and slice indexing\n",
    "result = array_2d[array_2d > 30][: 2]\n",
    "\n",
    "print('Combined Indexing Result:', result)\n"
   ]
  },
  {
   "cell_type": "code",
   "execution_count": null,
   "id": "362715ea",
   "metadata": {},
   "outputs": [],
   "source": []
  }
 ],
 "metadata": {
  "kernelspec": {
   "display_name": "Python 3 (ipykernel)",
   "language": "python",
   "name": "python3"
  },
  "language_info": {
   "codemirror_mode": {
    "name": "ipython",
    "version": 3
   },
   "file_extension": ".py",
   "mimetype": "text/x-python",
   "name": "python",
   "nbconvert_exporter": "python",
   "pygments_lexer": "ipython3",
   "version": "3.11.5"
  }
 },
 "nbformat": 4,
 "nbformat_minor": 5
}
